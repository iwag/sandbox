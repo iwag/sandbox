{
 "cells": [
  {
   "cell_type": "code",
   "execution_count": 1,
   "metadata": {},
   "outputs": [
    {
     "name": "stdout",
     "output_type": "stream",
     "text": [
      "Starting Spark application\n"
     ]
    },
    {
     "data": {
      "text/html": [
       "<table>\n",
       "<tr><th>ID</th><th>YARN Application ID</th><th>Kind</th><th>State</th><th>Spark UI</th><th>Driver log</th><th>Current session?</th></tr><tr><td>1</td><td>None</td><td>spark</td><td>idle</td><td></td><td></td><td>✔</td></tr></table>"
      ],
      "text/plain": [
       "<IPython.core.display.HTML object>"
      ]
     },
     "metadata": {},
     "output_type": "display_data"
    },
    {
     "data": {
      "application/vnd.jupyter.widget-view+json": {
       "model_id": "",
       "version_major": 2,
       "version_minor": 0
      },
      "text/plain": [
       "FloatProgress(value=0.0, bar_style='info', description='Progress:', layout=Layout(height='25px', width='50%'),…"
      ]
     },
     "metadata": {},
     "output_type": "display_data"
    },
    {
     "name": "stdout",
     "output_type": "stream",
     "text": [
      "SparkSession available as 'spark'.\n"
     ]
    },
    {
     "data": {
      "application/vnd.jupyter.widget-view+json": {
       "model_id": "",
       "version_major": 2,
       "version_minor": 0
      },
      "text/plain": [
       "FloatProgress(value=0.0, bar_style='info', description='Progress:', layout=Layout(height='25px', width='50%'),…"
      ]
     },
     "metadata": {},
     "output_type": "display_data"
    },
    {
     "name": "stdout",
     "output_type": "stream",
     "text": [
      "import org.apache.spark.SparkContext._\n"
     ]
    }
   ],
   "source": [
    "import org.apache.spark.SparkContext._"
   ]
  },
  {
   "cell_type": "code",
   "execution_count": 22,
   "metadata": {},
   "outputs": [
    {
     "data": {
      "application/vnd.jupyter.widget-view+json": {
       "model_id": "",
       "version_major": 2,
       "version_minor": 0
      },
      "text/plain": [
       "FloatProgress(value=0.0, bar_style='info', description='Progress:', layout=Layout(height='25px', width='50%'),…"
      ]
     },
     "metadata": {},
     "output_type": "display_data"
    },
    {
     "name": "stdout",
     "output_type": "stream",
     "text": [
      "import org.apache.spark.SparkFiles\n",
      "df: org.apache.spark.sql.DataFrame = [marketplace: string, customer_id: string ... 13 more fields]\n",
      "res24: Array[org.apache.spark.sql.Row] = Array([JP,65317,R33RSUD4ZTRKT7,B000001GBJ,957145596,SONGS FROM A SECRET GARDE,Music,1,1,15,N,Y,残念ながら…,残念ながら…趣味ではありませんでした。ケルト音楽の範疇にも幅があるのですね…,2012-12-05])\n"
     ]
    }
   ],
   "source": [
    "import org.apache.spark.SparkFiles\n",
    "spark.sparkContext.addFile(\"https://s3.amazonaws.com/amazon-reviews-pds/tsv/amazon_reviews_multilingual_JP_v1_00.tsv.gz\")\n",
    "\n",
    "val df = spark.read.option(\"delimiter\", \"\\t\").option(\"header\", true).csv(\"file://\"+SparkFiles.get(\"amazon_reviews_multilingual_JP_v1_00.tsv.gz\"))\n",
    "\n",
    "df.head(1)"
   ]
  },
  {
   "cell_type": "code",
   "execution_count": 24,
   "metadata": {
    "scrolled": true
   },
   "outputs": [
    {
     "data": {
      "application/vnd.jupyter.widget-view+json": {
       "model_id": "",
       "version_major": 2,
       "version_minor": 0
      },
      "text/plain": [
       "FloatProgress(value=0.0, bar_style='info', description='Progress:', layout=Layout(height='25px', width='50%'),…"
      ]
     },
     "metadata": {},
     "output_type": "display_data"
    },
    {
     "name": "stdout",
     "output_type": "stream",
     "text": [
      "grouped: org.apache.spark.sql.RelationalGroupedDataset = RelationalGroupedDataset: [grouping expressions: [product_id: string], value: [marketplace: string, customer_id: string ... 13 more fields], type: GroupBy]\n",
      "+----------+------------------+\n",
      "|product_id|        avg_rating|\n",
      "+----------+------------------+\n",
      "|B00HGJ18C2|              3.25|\n",
      "|B0128FENOS| 3.269230769230769|\n",
      "|B003ES61EE|3.3424657534246576|\n",
      "|B004KKX7AQ| 4.416666666666667|\n",
      "|B0000251VP|               5.0|\n",
      "|B000000OQF|             4.625|\n",
      "|B00FIWN8WM| 4.333333333333333|\n",
      "|B00BMR5HOO|               3.6|\n",
      "|B00CO4KGYA|               3.5|\n",
      "|B003EVW686| 4.333333333333333|\n",
      "|B00C93YSTU|               3.5|\n",
      "|B00O2BP1NO| 4.833333333333333|\n",
      "|B0083Z614S| 4.769230769230769|\n",
      "|B003ZX7EIK|               4.0|\n",
      "|B00005785F| 4.857142857142857|\n",
      "|B000002GOZ| 4.454545454545454|\n",
      "|0785153373|               5.0|\n",
      "|B004U4QVNM|3.2222222222222223|\n",
      "|B001R0XNSI|3.6666666666666665|\n",
      "|B000TEUSJU|               5.0|\n",
      "+----------+------------------+\n",
      "only showing top 20 rows\n",
      "\n"
     ]
    }
   ],
   "source": [
    "val grouped = df.groupBy(\"product_id\")\n",
    "grouped.agg(avg($\"star_rating\").alias(\"avg_rating\")).show()\n",
    "// .orderBy($\"avg_rating\".desc)"
   ]
  },
  {
   "cell_type": "code",
   "execution_count": null,
   "metadata": {},
   "outputs": [],
   "source": []
  }
 ],
 "metadata": {
  "kernelspec": {
   "display_name": "Spark",
   "language": "",
   "name": "sparkkernel"
  },
  "language_info": {
   "codemirror_mode": "text/x-scala",
   "mimetype": "text/x-scala",
   "name": "scala",
   "pygments_lexer": "scala"
  }
 },
 "nbformat": 4,
 "nbformat_minor": 4
}
