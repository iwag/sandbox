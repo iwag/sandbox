{
 "cells": [
  {
   "cell_type": "code",
   "execution_count": 2,
   "metadata": {},
   "outputs": [
    {
     "data": {
      "application/vnd.jupyter.widget-view+json": {
       "model_id": "",
       "version_major": 2,
       "version_minor": 0
      },
      "text/plain": [
       "FloatProgress(value=0.0, bar_style='info', description='Progress:', layout=Layout(height='25px', width='50%'),…"
      ]
     },
     "metadata": {},
     "output_type": "display_data"
    },
    {
     "name": "stdout",
     "output_type": "stream",
     "text": [
      "+--------------------+----------------+--------------------+------+--------------------+---------------------+----------+--------+\n",
      "|             area_id| on_behalf_of_id|     organization_id|  role|           person_id|legislative_period_id|start_date|end_date|\n",
      "+--------------------+----------------+--------------------+------+--------------------+---------------------+----------+--------+\n",
      "|ocd-division/coun...|party/republican|d56acebe-8fdc-47b...|member|0005af3a-9471-4d1...|             term/103|      null|    null|\n",
      "|ocd-division/coun...|party/republican|d56acebe-8fdc-47b...|member|0005af3a-9471-4d1...|             term/104|      null|    null|\n",
      "|ocd-division/coun...|party/republican|d56acebe-8fdc-47b...|member|0005af3a-9471-4d1...|             term/105|1997-01-07|    null|\n",
      "|ocd-division/coun...|party/republican|d56acebe-8fdc-47b...|member|0005af3a-9471-4d1...|             term/106|      null|    null|\n",
      "|ocd-division/coun...|party/republican|d56acebe-8fdc-47b...|member|0005af3a-9471-4d1...|             term/107|      null|    null|\n",
      "|ocd-division/coun...|party/republican|d56acebe-8fdc-47b...|member|0005af3a-9471-4d1...|             term/108|2003-01-07|    null|\n",
      "|ocd-division/coun...|party/republican|d56acebe-8fdc-47b...|member|00aa2dc0-bfb6-441...|             term/112|      null|    null|\n",
      "|ocd-division/coun...|party/republican|d56acebe-8fdc-47b...|member|00aa2dc0-bfb6-441...|             term/113|      null|    null|\n",
      "|ocd-division/coun...|party/republican|d56acebe-8fdc-47b...|member|00aa2dc0-bfb6-441...|             term/114|      null|    null|\n",
      "|ocd-division/coun...|party/republican|d56acebe-8fdc-47b...|member|00aa2dc0-bfb6-441...|             term/115|      null|    null|\n",
      "|ocd-division/coun...|party/republican|d56acebe-8fdc-47b...|member|00aca284-9323-495...|             term/113|2014-06-24|    null|\n",
      "|ocd-division/coun...|party/republican|d56acebe-8fdc-47b...|member|00aca284-9323-495...|             term/114|      null|    null|\n",
      "|ocd-division/coun...|party/republican|d56acebe-8fdc-47b...|member|00b73df5-4180-441...|             term/100|      null|    null|\n",
      "|ocd-division/coun...|party/republican|d56acebe-8fdc-47b...|member|00b73df5-4180-441...|             term/101|      null|    null|\n",
      "|ocd-division/coun...|party/republican|d56acebe-8fdc-47b...|member|00b73df5-4180-441...|             term/102|      null|    null|\n",
      "|ocd-division/coun...|party/republican|d56acebe-8fdc-47b...|member|00b73df5-4180-441...|             term/103|      null|    null|\n",
      "|ocd-division/coun...|party/republican|d56acebe-8fdc-47b...|member|00b73df5-4180-441...|             term/104|      null|    null|\n",
      "|ocd-division/coun...|party/republican|d56acebe-8fdc-47b...|member|00b73df5-4180-441...|             term/105|1997-01-07|    null|\n",
      "|ocd-division/coun...|party/republican|d56acebe-8fdc-47b...|member|00b73df5-4180-441...|              term/97|      null|    null|\n",
      "|ocd-division/coun...|party/republican|d56acebe-8fdc-47b...|member|00b73df5-4180-441...|              term/98|      null|    null|\n",
      "+--------------------+----------------+--------------------+------+--------------------+---------------------+----------+--------+\n",
      "only showing top 20 rows"
     ]
    }
   ],
   "source": [
    "from pyspark import SparkContext\n",
    "from awsglue.context import GlueContext\n",
    "\n",
    "glueContext = GlueContext(SparkContext.getOrCreate()) \n",
    "inputDF = glueContext.create_dynamic_frame_from_options(connection_type = \"s3\", connection_options = {\"paths\": [\"s3://awsglue-datasets/examples/us-legislators/all/memberships.json\"]}, format = \"json\")\n",
    "inputDF.toDF().show()"
   ]
  },
  {
   "cell_type": "code",
   "execution_count": 3,
   "metadata": {},
   "outputs": [
    {
     "data": {
      "application/vnd.jupyter.widget-view+json": {
       "model_id": "",
       "version_major": 2,
       "version_minor": 0
      },
      "text/plain": [
       "FloatProgress(value=0.0, bar_style='info', description='Progress:', layout=Layout(height='25px', width='50%'),…"
      ]
     },
     "metadata": {},
     "output_type": "display_data"
    },
    {
     "name": "stdout",
     "output_type": "stream",
     "text": [
      "root\n",
      " |-- area_id: string (nullable = true)\n",
      " |-- on_behalf_of_id: string (nullable = true)\n",
      " |-- organization_id: string (nullable = true)\n",
      " |-- role: string (nullable = true)\n",
      " |-- person_id: string (nullable = true)\n",
      " |-- legislative_period_id: string (nullable = true)\n",
      " |-- start_date: string (nullable = true)\n",
      " |-- end_date: string (nullable = true)"
     ]
    }
   ],
   "source": [
    "inputDF.toDF().printSchema()"
   ]
  },
  {
   "cell_type": "code",
   "execution_count": null,
   "metadata": {},
   "outputs": [],
   "source": []
  }
 ],
 "metadata": {
  "kernelspec": {
   "display_name": "PySpark",
   "language": "",
   "name": "pysparkkernel"
  },
  "language_info": {
   "codemirror_mode": {
    "name": "python",
    "version": 3
   },
   "mimetype": "text/x-python",
   "name": "pyspark",
   "pygments_lexer": "python3"
  }
 },
 "nbformat": 4,
 "nbformat_minor": 4
}
